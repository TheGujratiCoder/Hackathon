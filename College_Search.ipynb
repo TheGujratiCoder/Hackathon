{
 "cells": [
  {
   "cell_type": "code",
   "execution_count": 1,
   "metadata": {},
   "outputs": [
    {
     "name": "stdout",
     "output_type": "stream",
     "text": [
      "115 Acres\n",
      "B.Tech Computer Science Engineering, MBA, BBA and MBA Integrated, B.Com LLB Hons, B.Tech Civil Engineering, B.Tech Electrical Engineering, B.Tech Electronics and Communication Engineering, B.Tech Mechanical Engineering, BA LLB Hons, B.Pharma, B.Arch, MCA, B.Com Hons, B.Tech Chemical Engineering, B.Tech Instrumentation and Control Engineering, MBA Family Business and Entrepreneurship, B.Des Communication Design, B.Des Industrial Design, M.Sc Biotechnology, MBA Human Resource Management, M.Sc Biochemistry, M.Sc Microbiology, M.Tech CAD CAM, M.Tech Computer Aided Structural Analysis and Design, M.Tech Computer Science and Engineering, M.Tech Electrical Power Systems, M.Tech Embedded Systems, M.Tech Information and Network Security, M.Tech Thermal Engineering, M.Tech VLSI Design, M.Pharma Pharmaceutical Analysis, M.Pharma Pharmaceutical Chemistry, M.Pharma Pharmaceutics, M.Pharma Pharmacology, M.Pharma Regulatory Affairs, LLM Constitutional and Administrative Law, LLM Criminal and Security Law, MCA Lateral Entry, Ph.D Criminal Law, Ph.D Environmental Law and Allied areas, Ph.D Constitutional Law\n",
      "I dont know about the college or you entered the wrong query\n",
      "116\n",
      "Thank you for using our services\n"
     ]
    }
   ],
   "source": [
    "import csv\n",
    "\n",
    "def search_database(college,detail):\n",
    "    with open('./intents_database_college_information.csv','r') as file:\n",
    "        reader=csv.DictReader(file)\n",
    "        for row in reader:\n",
    "            if row['College Name']==college:\n",
    "                if detail in row:\n",
    "                    return row[detail]\n",
    "                else:\n",
    "                    return \"I dont know about the college or you entered the wrong query\"\n",
    "\n",
    "while True:\n",
    "    college=input(\"What College are you looking for ? \")\n",
    "    if college==\"none\":\n",
    "        break\n",
    "    detail=input(\"What specific Details are you looking for ? \")\n",
    "    result=search_database(college,detail)\n",
    "    print(result)\n",
    "print(\"Thank you for using our services\")"
   ]
  }
 ],
 "metadata": {
  "kernelspec": {
   "display_name": "Python 3",
   "language": "python",
   "name": "python3"
  },
  "language_info": {
   "codemirror_mode": {
    "name": "ipython",
    "version": 3
   },
   "file_extension": ".py",
   "mimetype": "text/x-python",
   "name": "python",
   "nbconvert_exporter": "python",
   "pygments_lexer": "ipython3",
   "version": "3.10.11"
  },
  "orig_nbformat": 4
 },
 "nbformat": 4,
 "nbformat_minor": 2
}
